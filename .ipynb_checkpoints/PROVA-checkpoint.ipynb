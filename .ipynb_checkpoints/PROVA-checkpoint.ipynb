{
 "cells": [
  {
   "cell_type": "code",
   "execution_count": null,
   "id": "f48fb612-c9ad-4483-a81c-43b6ebfe2531",
   "metadata": {},
   "outputs": [],
   "source": [
    "consumo_diario = [50, 45, 55 , 60, 48, 52 ,47 , 49, 53, 51, 50, 46, 54, 61, 49, 53, 48, 50, 52, 47, 56, 50, 55, 60, 48, 52, 47, 49, 53,51]"
   ]
  },
  {
   "cell_type": "code",
   "execution_count": null,
   "id": "d9167893-fa62-4c39-8132-dbd79486ec91",
   "metadata": {},
   "outputs": [],
   "source": [
    "def consumo(lista):\n",
    "     return sum(lista) / len(lista)"
   ]
  },
  {
   "cell_type": "code",
   "execution_count": null,
   "id": "cb268561-ca96-40e5-ba85-d9e0bb1de299",
   "metadata": {},
   "outputs": [],
   "source": [
    "lista = consumo_diario \n",
    "print(f\"O consumo diário médio foi: {consumo(lista)}\")"
   ]
  }
 ],
 "metadata": {
  "kernelspec": {
   "display_name": "Python 3 (ipykernel)",
   "language": "python",
   "name": "python3"
  },
  "language_info": {
   "codemirror_mode": {
    "name": "ipython",
    "version": 3
   },
   "file_extension": ".py",
   "mimetype": "text/x-python",
   "name": "python",
   "nbconvert_exporter": "python",
   "pygments_lexer": "ipython3",
   "version": "3.12.4"
  }
 },
 "nbformat": 4,
 "nbformat_minor": 5
}
